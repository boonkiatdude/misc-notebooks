{
 "cells": [
  {
   "cell_type": "code",
   "execution_count": 299,
   "metadata": {},
   "outputs": [],
   "source": [
    "from numpy import loadtxt\n",
    "from tensorflow.keras.models import Sequential\n",
    "from tensorflow.keras.layers import Dense\n",
    "from tensorflow.keras.layers import Activation\n",
    "from tensorflow.keras.optimizers import SGD, Adam\n",
    "from tensorflow.keras.metrics import categorical_crossentropy\n",
    "from tensorflow.keras.models import load_model\n",
    "from tensorflow.keras.models import model_from_json\n",
    "from sklearn import datasets\n",
    "from sklearn import preprocessing\n",
    "from sklearn.utils import shuffle\n",
    "from sklearn.metrics import confusion_matrix\n",
    "import itertools\n",
    "from matplotlib import pyplot as plt\n",
    "import statistics as stt\n",
    "from random import randint\n",
    "import os.path\n"
   ]
  },
  {
   "cell_type": "code",
   "execution_count": 4,
   "metadata": {},
   "outputs": [],
   "source": [
    "dataset = loadtxt('../csv/pima-indians-diabetes.csv', delimiter=',')\n",
    "X = dataset[:, 0:8]\n",
    "y = dataset[:, 8]"
   ]
  },
  {
   "cell_type": "code",
   "execution_count": 5,
   "metadata": {},
   "outputs": [],
   "source": [
    "model = Sequential()\n",
    "model.add(Dense(12, input_dim=8, activation='relu'))\n",
    "model.add(Dense(8, activation='relu'))\n",
    "model.add(Dense(1, activation='sigmoid'))"
   ]
  },
  {
   "cell_type": "code",
   "execution_count": 6,
   "metadata": {},
   "outputs": [],
   "source": [
    "model.compile(loss='binary_crossentropy', optimizer='adam', metrics=['accuracy'])"
   ]
  },
  {
   "cell_type": "code",
   "execution_count": 8,
   "metadata": {},
   "outputs": [
    {
     "name": "stdout",
     "output_type": "stream",
     "text": [
      "Epoch 1/150\n",
      "77/77 [==============================] - 0s 1ms/step - loss: 1.6559 - accuracy: 0.5677\n",
      "Epoch 2/150\n",
      "77/77 [==============================] - 0s 1ms/step - loss: 0.8574 - accuracy: 0.5833\n",
      "Epoch 3/150\n",
      "77/77 [==============================] - 0s 1ms/step - loss: 0.7725 - accuracy: 0.6029\n",
      "Epoch 4/150\n",
      "77/77 [==============================] - 0s 1ms/step - loss: 0.7462 - accuracy: 0.6068\n",
      "Epoch 5/150\n",
      "77/77 [==============================] - 0s 1ms/step - loss: 0.8240 - accuracy: 0.5807\n",
      "Epoch 6/150\n",
      "77/77 [==============================] - 0s 1ms/step - loss: 0.7065 - accuracy: 0.6055\n",
      "Epoch 7/150\n",
      "77/77 [==============================] - 0s 1ms/step - loss: 0.6921 - accuracy: 0.6497\n",
      "Epoch 8/150\n",
      "77/77 [==============================] - 0s 1ms/step - loss: 0.6585 - accuracy: 0.6315\n",
      "Epoch 9/150\n",
      "77/77 [==============================] - 0s 1ms/step - loss: 0.6498 - accuracy: 0.6458\n",
      "Epoch 10/150\n",
      "77/77 [==============================] - 0s 1ms/step - loss: 0.6512 - accuracy: 0.6615\n",
      "Epoch 11/150\n",
      "77/77 [==============================] - 0s 1ms/step - loss: 0.6567 - accuracy: 0.6406\n",
      "Epoch 12/150\n",
      "77/77 [==============================] - 0s 1ms/step - loss: 0.6636 - accuracy: 0.6419\n",
      "Epoch 13/150\n",
      "77/77 [==============================] - 0s 1ms/step - loss: 0.6214 - accuracy: 0.6784\n",
      "Epoch 14/150\n",
      "77/77 [==============================] - 0s 1ms/step - loss: 0.6269 - accuracy: 0.6693\n",
      "Epoch 15/150\n",
      "77/77 [==============================] - 0s 1ms/step - loss: 0.6098 - accuracy: 0.6888\n",
      "Epoch 16/150\n",
      "77/77 [==============================] - 0s 971us/step - loss: 0.6053 - accuracy: 0.6914\n",
      "Epoch 17/150\n",
      "77/77 [==============================] - 0s 963us/step - loss: 0.6022 - accuracy: 0.7018\n",
      "Epoch 18/150\n",
      "77/77 [==============================] - 0s 1ms/step - loss: 0.6405 - accuracy: 0.6615\n",
      "Epoch 19/150\n",
      "77/77 [==============================] - 0s 1ms/step - loss: 0.5851 - accuracy: 0.6940\n",
      "Epoch 20/150\n",
      "77/77 [==============================] - 0s 1ms/step - loss: 0.6033 - accuracy: 0.6836\n",
      "Epoch 21/150\n",
      "77/77 [==============================] - 0s 1ms/step - loss: 0.6123 - accuracy: 0.6784\n",
      "Epoch 22/150\n",
      "77/77 [==============================] - 0s 1ms/step - loss: 0.5962 - accuracy: 0.6901\n",
      "Epoch 23/150\n",
      "77/77 [==============================] - 0s 1ms/step - loss: 0.6028 - accuracy: 0.6992\n",
      "Epoch 24/150\n",
      "77/77 [==============================] - 0s 1ms/step - loss: 0.5848 - accuracy: 0.7018\n",
      "Epoch 25/150\n",
      "77/77 [==============================] - 0s 1ms/step - loss: 0.5870 - accuracy: 0.6901\n",
      "Epoch 26/150\n",
      "77/77 [==============================] - 0s 1ms/step - loss: 0.6557 - accuracy: 0.6680\n",
      "Epoch 27/150\n",
      "77/77 [==============================] - 0s 1ms/step - loss: 0.6011 - accuracy: 0.6901\n",
      "Epoch 28/150\n",
      "77/77 [==============================] - 0s 1ms/step - loss: 0.5615 - accuracy: 0.7109\n",
      "Epoch 29/150\n",
      "77/77 [==============================] - 0s 1ms/step - loss: 0.5559 - accuracy: 0.7083\n",
      "Epoch 30/150\n",
      "77/77 [==============================] - 0s 1ms/step - loss: 0.5679 - accuracy: 0.7148\n",
      "Epoch 31/150\n",
      "77/77 [==============================] - 0s 1ms/step - loss: 0.5849 - accuracy: 0.6875\n",
      "Epoch 32/150\n",
      "77/77 [==============================] - 0s 1ms/step - loss: 0.5617 - accuracy: 0.7253\n",
      "Epoch 33/150\n",
      "77/77 [==============================] - 0s 1ms/step - loss: 0.5731 - accuracy: 0.7214\n",
      "Epoch 34/150\n",
      "77/77 [==============================] - 0s 1ms/step - loss: 0.5613 - accuracy: 0.7331\n",
      "Epoch 35/150\n",
      "77/77 [==============================] - 0s 1ms/step - loss: 0.5668 - accuracy: 0.7422\n",
      "Epoch 36/150\n",
      "77/77 [==============================] - 0s 1ms/step - loss: 0.5721 - accuracy: 0.7109\n",
      "Epoch 37/150\n",
      "77/77 [==============================] - 0s 1ms/step - loss: 0.5737 - accuracy: 0.7044\n",
      "Epoch 38/150\n",
      "77/77 [==============================] - 0s 1ms/step - loss: 0.6057 - accuracy: 0.6979\n",
      "Epoch 39/150\n",
      "77/77 [==============================] - 0s 2ms/step - loss: 0.5582 - accuracy: 0.7305\n",
      "Epoch 40/150\n",
      "77/77 [==============================] - 0s 2ms/step - loss: 0.5454 - accuracy: 0.7383\n",
      "Epoch 41/150\n",
      "77/77 [==============================] - 0s 2ms/step - loss: 0.5678 - accuracy: 0.7161\n",
      "Epoch 42/150\n",
      "77/77 [==============================] - 0s 2ms/step - loss: 0.5758 - accuracy: 0.7188\n",
      "Epoch 43/150\n",
      "77/77 [==============================] - 0s 2ms/step - loss: 0.5496 - accuracy: 0.7240\n",
      "Epoch 44/150\n",
      "77/77 [==============================] - 0s 2ms/step - loss: 0.5587 - accuracy: 0.7266\n",
      "Epoch 45/150\n",
      "77/77 [==============================] - 0s 1ms/step - loss: 0.5640 - accuracy: 0.7188\n",
      "Epoch 46/150\n",
      "77/77 [==============================] - 0s 1ms/step - loss: 0.5472 - accuracy: 0.7201\n",
      "Epoch 47/150\n",
      "77/77 [==============================] - 0s 1ms/step - loss: 0.5748 - accuracy: 0.7266\n",
      "Epoch 48/150\n",
      "77/77 [==============================] - 0s 1ms/step - loss: 0.5638 - accuracy: 0.7331\n",
      "Epoch 49/150\n",
      "77/77 [==============================] - 0s 1ms/step - loss: 0.5416 - accuracy: 0.7266\n",
      "Epoch 50/150\n",
      "77/77 [==============================] - 0s 2ms/step - loss: 0.5917 - accuracy: 0.7044\n",
      "Epoch 51/150\n",
      "77/77 [==============================] - 0s 2ms/step - loss: 0.5517 - accuracy: 0.7422\n",
      "Epoch 52/150\n",
      "77/77 [==============================] - 0s 1ms/step - loss: 0.5334 - accuracy: 0.7318\n",
      "Epoch 53/150\n",
      "77/77 [==============================] - 0s 1ms/step - loss: 0.5629 - accuracy: 0.7031\n",
      "Epoch 54/150\n",
      "77/77 [==============================] - 0s 933us/step - loss: 0.5442 - accuracy: 0.7266\n",
      "Epoch 55/150\n",
      "77/77 [==============================] - 0s 1ms/step - loss: 0.5374 - accuracy: 0.7292\n",
      "Epoch 56/150\n",
      "77/77 [==============================] - 0s 1ms/step - loss: 0.5478 - accuracy: 0.7422\n",
      "Epoch 57/150\n",
      "77/77 [==============================] - 0s 1ms/step - loss: 0.5416 - accuracy: 0.7435\n",
      "Epoch 58/150\n",
      "77/77 [==============================] - 0s 1ms/step - loss: 0.5384 - accuracy: 0.7370\n",
      "Epoch 59/150\n",
      "77/77 [==============================] - 0s 1ms/step - loss: 0.5405 - accuracy: 0.7279\n",
      "Epoch 60/150\n",
      "77/77 [==============================] - 0s 1ms/step - loss: 0.5562 - accuracy: 0.7201\n",
      "Epoch 61/150\n",
      "77/77 [==============================] - 0s 1ms/step - loss: 0.5617 - accuracy: 0.7070\n",
      "Epoch 62/150\n",
      "77/77 [==============================] - 0s 1ms/step - loss: 0.5713 - accuracy: 0.7174\n",
      "Epoch 63/150\n",
      "77/77 [==============================] - 0s 1ms/step - loss: 0.5172 - accuracy: 0.7656\n",
      "Epoch 64/150\n",
      "77/77 [==============================] - 0s 1ms/step - loss: 0.5305 - accuracy: 0.7552\n",
      "Epoch 65/150\n",
      "77/77 [==============================] - 0s 1ms/step - loss: 0.5159 - accuracy: 0.7552\n",
      "Epoch 66/150\n",
      "77/77 [==============================] - 0s 1ms/step - loss: 0.5293 - accuracy: 0.7487\n",
      "Epoch 67/150\n",
      "77/77 [==============================] - 0s 1ms/step - loss: 0.5376 - accuracy: 0.7318\n",
      "Epoch 68/150\n",
      "77/77 [==============================] - 0s 1ms/step - loss: 0.5405 - accuracy: 0.7344\n",
      "Epoch 69/150\n",
      "77/77 [==============================] - 0s 1ms/step - loss: 0.5307 - accuracy: 0.7331\n",
      "Epoch 70/150\n",
      "77/77 [==============================] - 0s 1ms/step - loss: 0.5268 - accuracy: 0.7630\n",
      "Epoch 71/150\n",
      "77/77 [==============================] - 0s 1ms/step - loss: 0.5480 - accuracy: 0.7344\n",
      "Epoch 72/150\n",
      "77/77 [==============================] - 0s 1ms/step - loss: 0.5587 - accuracy: 0.7409\n",
      "Epoch 73/150\n",
      "77/77 [==============================] - 0s 1ms/step - loss: 0.5331 - accuracy: 0.7318\n",
      "Epoch 74/150\n",
      "77/77 [==============================] - 0s 1ms/step - loss: 0.5481 - accuracy: 0.7161\n",
      "Epoch 75/150\n",
      "77/77 [==============================] - 0s 1ms/step - loss: 0.5284 - accuracy: 0.7370\n",
      "Epoch 76/150\n",
      "77/77 [==============================] - 0s 1ms/step - loss: 0.5314 - accuracy: 0.7461\n",
      "Epoch 77/150\n",
      "77/77 [==============================] - 0s 1ms/step - loss: 0.5377 - accuracy: 0.7305\n",
      "Epoch 78/150\n",
      "77/77 [==============================] - 0s 1ms/step - loss: 0.5414 - accuracy: 0.7331\n",
      "Epoch 79/150\n",
      "77/77 [==============================] - 0s 1ms/step - loss: 0.5250 - accuracy: 0.7526\n",
      "Epoch 80/150\n",
      "77/77 [==============================] - 0s 1ms/step - loss: 0.5255 - accuracy: 0.7552\n",
      "Epoch 81/150\n",
      "77/77 [==============================] - 0s 1ms/step - loss: 0.5191 - accuracy: 0.7552\n",
      "Epoch 82/150\n",
      "77/77 [==============================] - 0s 1ms/step - loss: 0.5269 - accuracy: 0.7539\n"
     ]
    },
    {
     "name": "stdout",
     "output_type": "stream",
     "text": [
      "Epoch 83/150\n",
      "77/77 [==============================] - 0s 1ms/step - loss: 0.5067 - accuracy: 0.7630\n",
      "Epoch 84/150\n",
      "77/77 [==============================] - 0s 979us/step - loss: 0.5132 - accuracy: 0.7396\n",
      "Epoch 85/150\n",
      "77/77 [==============================] - 0s 964us/step - loss: 0.5128 - accuracy: 0.7617\n",
      "Epoch 86/150\n",
      "77/77 [==============================] - 0s 948us/step - loss: 0.5241 - accuracy: 0.7422\n",
      "Epoch 87/150\n",
      "77/77 [==============================] - 0s 993us/step - loss: 0.5540 - accuracy: 0.7370\n",
      "Epoch 88/150\n",
      "77/77 [==============================] - 0s 1ms/step - loss: 0.5086 - accuracy: 0.7565\n",
      "Epoch 89/150\n",
      "77/77 [==============================] - 0s 1ms/step - loss: 0.5248 - accuracy: 0.7422\n",
      "Epoch 90/150\n",
      "77/77 [==============================] - 0s 1ms/step - loss: 0.5097 - accuracy: 0.7591\n",
      "Epoch 91/150\n",
      "77/77 [==============================] - 0s 1ms/step - loss: 0.5110 - accuracy: 0.7552\n",
      "Epoch 92/150\n",
      "77/77 [==============================] - 0s 1ms/step - loss: 0.5134 - accuracy: 0.7604\n",
      "Epoch 93/150\n",
      "77/77 [==============================] - 0s 998us/step - loss: 0.5166 - accuracy: 0.7500\n",
      "Epoch 94/150\n",
      "77/77 [==============================] - 0s 1ms/step - loss: 0.5099 - accuracy: 0.7552\n",
      "Epoch 95/150\n",
      "77/77 [==============================] - 0s 2ms/step - loss: 0.5372 - accuracy: 0.7370\n",
      "Epoch 96/150\n",
      "77/77 [==============================] - 0s 2ms/step - loss: 0.5179 - accuracy: 0.7409\n",
      "Epoch 97/150\n",
      "77/77 [==============================] - 0s 2ms/step - loss: 0.5077 - accuracy: 0.7500\n",
      "Epoch 98/150\n",
      "77/77 [==============================] - 0s 2ms/step - loss: 0.4983 - accuracy: 0.7669\n",
      "Epoch 99/150\n",
      "77/77 [==============================] - 0s 1ms/step - loss: 0.5208 - accuracy: 0.7461\n",
      "Epoch 100/150\n",
      "77/77 [==============================] - 0s 1ms/step - loss: 0.5140 - accuracy: 0.7500\n",
      "Epoch 101/150\n",
      "77/77 [==============================] - 0s 1ms/step - loss: 0.5315 - accuracy: 0.7331\n",
      "Epoch 102/150\n",
      "77/77 [==============================] - 0s 1ms/step - loss: 0.4958 - accuracy: 0.7604\n",
      "Epoch 103/150\n",
      "77/77 [==============================] - 0s 1ms/step - loss: 0.5145 - accuracy: 0.7552\n",
      "Epoch 104/150\n",
      "77/77 [==============================] - 0s 1ms/step - loss: 0.5022 - accuracy: 0.7617\n",
      "Epoch 105/150\n",
      "77/77 [==============================] - 0s 1ms/step - loss: 0.4928 - accuracy: 0.7708\n",
      "Epoch 106/150\n",
      "77/77 [==============================] - 0s 1ms/step - loss: 0.4904 - accuracy: 0.7669\n",
      "Epoch 107/150\n",
      "77/77 [==============================] - 0s 1ms/step - loss: 0.5085 - accuracy: 0.7565\n",
      "Epoch 108/150\n",
      "77/77 [==============================] - 0s 1ms/step - loss: 0.5164 - accuracy: 0.7552\n",
      "Epoch 109/150\n",
      "77/77 [==============================] - 0s 1ms/step - loss: 0.5059 - accuracy: 0.7435\n",
      "Epoch 110/150\n",
      "77/77 [==============================] - 0s 1ms/step - loss: 0.5069 - accuracy: 0.7630\n",
      "Epoch 111/150\n",
      "77/77 [==============================] - 0s 1ms/step - loss: 0.5131 - accuracy: 0.7539\n",
      "Epoch 112/150\n",
      "77/77 [==============================] - 0s 1ms/step - loss: 0.5207 - accuracy: 0.7474\n",
      "Epoch 113/150\n",
      "77/77 [==============================] - 0s 1ms/step - loss: 0.5029 - accuracy: 0.7513\n",
      "Epoch 114/150\n",
      "77/77 [==============================] - 0s 977us/step - loss: 0.5176 - accuracy: 0.7487\n",
      "Epoch 115/150\n",
      "77/77 [==============================] - 0s 809us/step - loss: 0.5061 - accuracy: 0.7383\n",
      "Epoch 116/150\n",
      "77/77 [==============================] - 0s 933us/step - loss: 0.5036 - accuracy: 0.7591\n",
      "Epoch 117/150\n",
      "77/77 [==============================] - 0s 846us/step - loss: 0.4925 - accuracy: 0.7591\n",
      "Epoch 118/150\n",
      "77/77 [==============================] - 0s 877us/step - loss: 0.5014 - accuracy: 0.7474\n",
      "Epoch 119/150\n",
      "77/77 [==============================] - 0s 997us/step - loss: 0.5186 - accuracy: 0.7396\n",
      "Epoch 120/150\n",
      "77/77 [==============================] - 0s 1ms/step - loss: 0.5029 - accuracy: 0.7422\n",
      "Epoch 121/150\n",
      "77/77 [==============================] - 0s 1ms/step - loss: 0.4940 - accuracy: 0.7643\n",
      "Epoch 122/150\n",
      "77/77 [==============================] - 0s 1ms/step - loss: 0.5268 - accuracy: 0.7305\n",
      "Epoch 123/150\n",
      "77/77 [==============================] - 0s 1ms/step - loss: 0.5042 - accuracy: 0.7474\n",
      "Epoch 124/150\n",
      "77/77 [==============================] - 0s 946us/step - loss: 0.5089 - accuracy: 0.7279\n",
      "Epoch 125/150\n",
      "77/77 [==============================] - 0s 962us/step - loss: 0.5269 - accuracy: 0.7422\n",
      "Epoch 126/150\n",
      "77/77 [==============================] - 0s 974us/step - loss: 0.5150 - accuracy: 0.7617\n",
      "Epoch 127/150\n",
      "77/77 [==============================] - 0s 925us/step - loss: 0.5040 - accuracy: 0.7435\n",
      "Epoch 128/150\n",
      "77/77 [==============================] - 0s 980us/step - loss: 0.5284 - accuracy: 0.7422\n",
      "Epoch 129/150\n",
      "77/77 [==============================] - 0s 953us/step - loss: 0.4950 - accuracy: 0.7708\n",
      "Epoch 130/150\n",
      "77/77 [==============================] - 0s 946us/step - loss: 0.5053 - accuracy: 0.7591\n",
      "Epoch 131/150\n",
      "77/77 [==============================] - 0s 938us/step - loss: 0.4913 - accuracy: 0.7604\n",
      "Epoch 132/150\n",
      "77/77 [==============================] - 0s 972us/step - loss: 0.4755 - accuracy: 0.7708\n",
      "Epoch 133/150\n",
      "77/77 [==============================] - 0s 969us/step - loss: 0.4824 - accuracy: 0.7786\n",
      "Epoch 134/150\n",
      "77/77 [==============================] - 0s 936us/step - loss: 0.5006 - accuracy: 0.7539\n",
      "Epoch 135/150\n",
      "77/77 [==============================] - 0s 1ms/step - loss: 0.4926 - accuracy: 0.7578\n",
      "Epoch 136/150\n",
      "77/77 [==============================] - 0s 972us/step - loss: 0.4960 - accuracy: 0.7695\n",
      "Epoch 137/150\n",
      "77/77 [==============================] - 0s 946us/step - loss: 0.4856 - accuracy: 0.7695\n",
      "Epoch 138/150\n",
      "77/77 [==============================] - 0s 946us/step - loss: 0.4901 - accuracy: 0.7760\n",
      "Epoch 139/150\n",
      "77/77 [==============================] - 0s 854us/step - loss: 0.4930 - accuracy: 0.7760\n",
      "Epoch 140/150\n",
      "77/77 [==============================] - 0s 854us/step - loss: 0.4952 - accuracy: 0.7643\n",
      "Epoch 141/150\n",
      "77/77 [==============================] - 0s 854us/step - loss: 0.4992 - accuracy: 0.7643\n",
      "Epoch 142/150\n",
      "77/77 [==============================] - 0s 876us/step - loss: 0.4790 - accuracy: 0.7643\n",
      "Epoch 143/150\n",
      "77/77 [==============================] - 0s 1ms/step - loss: 0.4788 - accuracy: 0.7708\n",
      "Epoch 144/150\n",
      "77/77 [==============================] - 0s 1ms/step - loss: 0.5075 - accuracy: 0.7604\n",
      "Epoch 145/150\n",
      "77/77 [==============================] - 0s 1ms/step - loss: 0.4957 - accuracy: 0.7552\n",
      "Epoch 146/150\n",
      "77/77 [==============================] - 0s 1ms/step - loss: 0.4926 - accuracy: 0.7682\n",
      "Epoch 147/150\n",
      "77/77 [==============================] - 0s 1ms/step - loss: 0.5015 - accuracy: 0.7500\n",
      "Epoch 148/150\n",
      "77/77 [==============================] - 0s 1ms/step - loss: 0.4869 - accuracy: 0.7630\n",
      "Epoch 149/150\n",
      "77/77 [==============================] - 0s 1ms/step - loss: 0.4810 - accuracy: 0.7812\n",
      "Epoch 150/150\n",
      "77/77 [==============================] - 0s 1ms/step - loss: 0.4859 - accuracy: 0.7643\n"
     ]
    },
    {
     "data": {
      "text/plain": [
       "<tensorflow.python.keras.callbacks.History at 0x1f0a6ba9a20>"
      ]
     },
     "execution_count": 8,
     "metadata": {},
     "output_type": "execute_result"
    }
   ],
   "source": [
    "model.fit(X, y, epochs=150, batch_size=10)"
   ]
  },
  {
   "cell_type": "code",
   "execution_count": 10,
   "metadata": {},
   "outputs": [
    {
     "name": "stdout",
     "output_type": "stream",
     "text": [
      "24/24 [==============================] - 0s 1ms/step - loss: 0.4626 - accuracy: 0.7812\n",
      "Accuracy: 78.12\n"
     ]
    }
   ],
   "source": [
    "_, accuracy = model.evaluate(X, y)\n",
    "print('Accuracy: %.2f' % (accuracy*100))"
   ]
  },
  {
   "cell_type": "code",
   "execution_count": 27,
   "metadata": {},
   "outputs": [],
   "source": [
    "predictions = model.predict_classes(X)"
   ]
  },
  {
   "cell_type": "code",
   "execution_count": 28,
   "metadata": {},
   "outputs": [
    {
     "name": "stdout",
     "output_type": "stream",
     "text": [
      "[6.0, 148.0, 72.0, 35.0, 0.0, 33.6, 0.627, 50.0] => 1 (expected 1)\n",
      "[1.0, 85.0, 66.0, 29.0, 0.0, 26.6, 0.351, 31.0] => 0 (expected 0)\n",
      "[8.0, 183.0, 64.0, 0.0, 0.0, 23.3, 0.672, 32.0] => 1 (expected 1)\n",
      "[1.0, 89.0, 66.0, 23.0, 94.0, 28.1, 0.167, 21.0] => 0 (expected 0)\n",
      "[0.0, 137.0, 40.0, 35.0, 168.0, 43.1, 2.288, 33.0] => 1 (expected 1)\n",
      "[5.0, 116.0, 74.0, 0.0, 0.0, 25.6, 0.201, 30.0] => 0 (expected 0)\n",
      "[3.0, 78.0, 50.0, 32.0, 88.0, 31.0, 0.248, 26.0] => 0 (expected 1)\n",
      "[10.0, 115.0, 0.0, 0.0, 0.0, 35.3, 0.134, 29.0] => 1 (expected 0)\n",
      "[2.0, 197.0, 70.0, 45.0, 543.0, 30.5, 0.158, 53.0] => 1 (expected 1)\n",
      "[8.0, 125.0, 96.0, 0.0, 0.0, 0.0, 0.232, 54.0] => 0 (expected 1)\n"
     ]
    }
   ],
   "source": [
    "for i in range(10):\n",
    "    print('%s => %d (expected %d)' % (X[i].tolist(), predictions[i], y[i]))"
   ]
  },
  {
   "cell_type": "code",
   "execution_count": 181,
   "metadata": {},
   "outputs": [],
   "source": [
    "X, y = datasets.make_regression(n_samples=1000, n_features=20, noise=0.1, random_state=1)"
   ]
  },
  {
   "cell_type": "code",
   "execution_count": 182,
   "metadata": {},
   "outputs": [],
   "source": [
    "X = preprocessing.StandardScaler().fit_transform(X)\n",
    "y = preprocessing.StandardScaler().fit_transform(y.reshape(len(y), 1))[:, 0]\n",
    "n_train = 500\n",
    "trainX, testX = X[:n_train, :], X[n_train:, :]\n",
    "trainy, testy = y[:n_train], y[n_train:]"
   ]
  },
  {
   "cell_type": "code",
   "execution_count": 183,
   "metadata": {},
   "outputs": [],
   "source": [
    "model = Sequential()\n",
    "model.add(Dense(25, input_dim=20, activation='relu', kernel_initializer='he_uniform'))\n",
    "model.add(Dense(1, activation='linear'))\n",
    "opt = SGD(lr=0.01, momentum=0.9)"
   ]
  },
  {
   "cell_type": "code",
   "execution_count": 165,
   "metadata": {},
   "outputs": [],
   "source": [
    "model.compile(loss='mean_squared_error', optimizer=opt)\n",
    "history = model.fit(trainX, trainy, validation_data=(testX, testy), epochs=100, verbose=0)"
   ]
  },
  {
   "cell_type": "code",
   "execution_count": 162,
   "metadata": {},
   "outputs": [
    {
     "name": "stdout",
     "output_type": "stream",
     "text": [
      "Train: 0.001, Test: 0.002\n"
     ]
    }
   ],
   "source": [
    "train_mse = model.evaluate(trainX, trainy, verbose=0)\n",
    "test_mse = model.evaluate(testX, testy, verbose=0)\n",
    "print('Train: %.3f, Test: %.3f' % (train_mse, test.mse))"
   ]
  },
  {
   "cell_type": "code",
   "execution_count": 163,
   "metadata": {},
   "outputs": [
    {
     "data": {
      "image/png": "[encoded data removed]",
      "text/plain": [
       "<Figure size 432x288 with 1 Axes>"
      ]
     },
     "metadata": {
      "needs_background": "light"
     },
     "output_type": "display_data"
    }
   ],
   "source": [
    "plt.title('Loss / Mean Squared Error')\n",
    "plt.plot(history.history['loss'], label='test')\n",
    "plt.plot(history.history['val_loss'], label='test')\n",
    "plt.legend()\n",
    "plt.show()"
   ]
  },
  {
   "cell_type": "code",
   "execution_count": 184,
   "metadata": {},
   "outputs": [],
   "source": [
    "model.compile(loss='mean_squared_logarithmic_error', optimizer=opt, metrics=['mse'])\n",
    "history = model.fit(trainX, trainy, validation_data=(testX, testy), epochs=100, verbose=0)"
   ]
  },
  {
   "cell_type": "code",
   "execution_count": 185,
   "metadata": {},
   "outputs": [
    {
     "name": "stdout",
     "output_type": "stream",
     "text": [
      "Train: 0.109, Test: 0.130\n"
     ]
    }
   ],
   "source": [
    "_, train_mse = model.evaluate(trainX, trainy, verbose=0)\n",
    "_, test_mse = model.evaluate(testX, testy, verbose=0)\n",
    "print('Train: %.3f, Test: %.3f' % (train_mse, test_mse))"
   ]
  },
  {
   "cell_type": "code",
   "execution_count": 188,
   "metadata": {},
   "outputs": [
    {
     "data": {
      "image/png": "[encoded data removed]",
      "text/plain": [
       "<Figure size 432x288 with 1 Axes>"
      ]
     },
     "metadata": {
      "needs_background": "light"
     },
     "output_type": "display_data"
    }
   ],
   "source": [
    "plt.title('Mean Squared Error')\n",
    "plt.plot(history.history['mse'], label='train')\n",
    "plt.plot(history.history['val_mse'], label='test')\n",
    "plt.legend()\n",
    "plt.show()"
   ]
  },
  {
   "cell_type": "code",
   "execution_count": 262,
   "metadata": {},
   "outputs": [],
   "source": [
    "train_samples = []\n",
    "train_labels = []\n",
    "for i in range(50):\n",
    "    random_younger = randint(13, 64)\n",
    "    train_samples.append(random_younger)\n",
    "    train_labels.append(1)\n",
    "    random_older = randint(65, 100)\n",
    "    train_samples.append(random_older)\n",
    "    train_labels.append(0)\n",
    "    \n",
    "for i in range(1000):\n",
    "    random_younger = randint(13, 64)\n",
    "    train_samples.append(random_younger)\n",
    "    train_labels.append(0)\n",
    "    random_older = randint(65, 100)\n",
    "    train_samples.append(random_older)\n",
    "    train_labels.append(1)\n",
    "\n",
    "train_labels = np.array(train_labels)\n",
    "train_samples = np.array(train_samples)\n",
    "train_labels, train_samples = shuffle(train_labels, train_samples)"
   ]
  },
  {
   "cell_type": "code",
   "execution_count": 263,
   "metadata": {},
   "outputs": [],
   "source": [
    "scaler = preprocessing.MinMaxScaler(feature_range=(0, 1))\n",
    "scaled_train_samples = scaler.fit_transform(train_samples.reshape(-1, 1))"
   ]
  },
  {
   "cell_type": "code",
   "execution_count": 264,
   "metadata": {},
   "outputs": [
    {
     "name": "stdout",
     "output_type": "stream",
     "text": [
      "Model: \"sequential_10\"\n",
      "_________________________________________________________________\n",
      "Layer (type)                 Output Shape              Param #   \n",
      "=================================================================\n",
      "dense_23 (Dense)             (None, 16)                32        \n",
      "_________________________________________________________________\n",
      "dense_24 (Dense)             (None, 32)                544       \n",
      "_________________________________________________________________\n",
      "dense_25 (Dense)             (None, 2)                 66        \n",
      "=================================================================\n",
      "Total params: 642\n",
      "Trainable params: 642\n",
      "Non-trainable params: 0\n",
      "_________________________________________________________________\n"
     ]
    }
   ],
   "source": [
    "model = Sequential([\n",
    "    Dense(units=16, input_shape=(1, ), activation='relu'),\n",
    "    Dense(units=32, activation='relu'),\n",
    "    Dense(units=2, activation='softmax')\n",
    "])\n",
    "model.summary()"
   ]
  },
  {
   "cell_type": "code",
   "execution_count": 265,
   "metadata": {},
   "outputs": [],
   "source": [
    "model.compile(optimizer=Adam(learning_rate=0.0001), loss='sparse_categorical_crossentropy', metrics=['accuracy'])"
   ]
  },
  {
   "cell_type": "code",
   "execution_count": 266,
   "metadata": {},
   "outputs": [
    {
     "name": "stdout",
     "output_type": "stream",
     "text": [
      "Epoch 1/30\n",
      "189/189 - 0s - loss: 0.6872 - accuracy: 0.5905 - val_loss: 0.6790 - val_accuracy: 0.6286\n",
      "Epoch 2/30\n",
      "189/189 - 0s - loss: 0.6658 - accuracy: 0.7079 - val_loss: 0.6610 - val_accuracy: 0.6476\n",
      "Epoch 3/30\n",
      "189/189 - 0s - loss: 0.6446 - accuracy: 0.7222 - val_loss: 0.6443 - val_accuracy: 0.6762\n",
      "Epoch 4/30\n",
      "189/189 - 0s - loss: 0.6233 - accuracy: 0.7476 - val_loss: 0.6257 - val_accuracy: 0.7048\n",
      "Epoch 5/30\n",
      "189/189 - 0s - loss: 0.5992 - accuracy: 0.7672 - val_loss: 0.6045 - val_accuracy: 0.7333\n",
      "Epoch 6/30\n",
      "189/189 - 0s - loss: 0.5724 - accuracy: 0.7878 - val_loss: 0.5815 - val_accuracy: 0.7381\n",
      "Epoch 7/30\n",
      "189/189 - 0s - loss: 0.5432 - accuracy: 0.8042 - val_loss: 0.5564 - val_accuracy: 0.7714\n",
      "Epoch 8/30\n",
      "189/189 - 0s - loss: 0.5131 - accuracy: 0.8222 - val_loss: 0.5311 - val_accuracy: 0.7952\n",
      "Epoch 9/30\n",
      "189/189 - 1s - loss: 0.4828 - accuracy: 0.8434 - val_loss: 0.5072 - val_accuracy: 0.8048\n",
      "Epoch 10/30\n",
      "189/189 - 0s - loss: 0.4537 - accuracy: 0.8534 - val_loss: 0.4828 - val_accuracy: 0.8190\n",
      "Epoch 11/30\n",
      "189/189 - 0s - loss: 0.4259 - accuracy: 0.8672 - val_loss: 0.4602 - val_accuracy: 0.8286\n",
      "Epoch 12/30\n",
      "189/189 - 0s - loss: 0.4001 - accuracy: 0.8778 - val_loss: 0.4393 - val_accuracy: 0.8571\n",
      "Epoch 13/30\n",
      "189/189 - 0s - loss: 0.3773 - accuracy: 0.8931 - val_loss: 0.4224 - val_accuracy: 0.8571\n",
      "Epoch 14/30\n",
      "189/189 - 0s - loss: 0.3571 - accuracy: 0.8984 - val_loss: 0.4074 - val_accuracy: 0.8619\n",
      "Epoch 15/30\n",
      "189/189 - 0s - loss: 0.3392 - accuracy: 0.9016 - val_loss: 0.3938 - val_accuracy: 0.8762\n",
      "Epoch 16/30\n",
      "189/189 - 0s - loss: 0.3244 - accuracy: 0.9095 - val_loss: 0.3835 - val_accuracy: 0.8857\n",
      "Epoch 17/30\n",
      "189/189 - 0s - loss: 0.3118 - accuracy: 0.9132 - val_loss: 0.3744 - val_accuracy: 0.9048\n",
      "Epoch 18/30\n",
      "189/189 - 0s - loss: 0.3015 - accuracy: 0.9190 - val_loss: 0.3682 - val_accuracy: 0.9048\n",
      "Epoch 19/30\n",
      "189/189 - 0s - loss: 0.2929 - accuracy: 0.9228 - val_loss: 0.3628 - val_accuracy: 0.9048\n",
      "Epoch 20/30\n",
      "189/189 - 0s - loss: 0.2857 - accuracy: 0.9238 - val_loss: 0.3575 - val_accuracy: 0.9190\n",
      "Epoch 21/30\n",
      "189/189 - 0s - loss: 0.2795 - accuracy: 0.9270 - val_loss: 0.3562 - val_accuracy: 0.9048\n",
      "Epoch 22/30\n",
      "189/189 - 0s - loss: 0.2746 - accuracy: 0.9270 - val_loss: 0.3520 - val_accuracy: 0.9190\n",
      "Epoch 23/30\n",
      "189/189 - 0s - loss: 0.2704 - accuracy: 0.9291 - val_loss: 0.3495 - val_accuracy: 0.9190\n",
      "Epoch 24/30\n",
      "189/189 - 0s - loss: 0.2666 - accuracy: 0.9296 - val_loss: 0.3486 - val_accuracy: 0.9190\n",
      "Epoch 25/30\n",
      "189/189 - 0s - loss: 0.2635 - accuracy: 0.9296 - val_loss: 0.3466 - val_accuracy: 0.9190\n",
      "Epoch 26/30\n",
      "189/189 - 0s - loss: 0.2607 - accuracy: 0.9302 - val_loss: 0.3447 - val_accuracy: 0.9190\n",
      "Epoch 27/30\n",
      "189/189 - 0s - loss: 0.2583 - accuracy: 0.9296 - val_loss: 0.3439 - val_accuracy: 0.9190\n",
      "Epoch 28/30\n",
      "189/189 - 0s - loss: 0.2562 - accuracy: 0.9302 - val_loss: 0.3434 - val_accuracy: 0.9190\n",
      "Epoch 29/30\n",
      "189/189 - 0s - loss: 0.2542 - accuracy: 0.9317 - val_loss: 0.3417 - val_accuracy: 0.9190\n",
      "Epoch 30/30\n",
      "189/189 - 1s - loss: 0.2526 - accuracy: 0.9296 - val_loss: 0.3399 - val_accuracy: 0.9190\n"
     ]
    },
    {
     "data": {
      "text/plain": [
       "<tensorflow.python.keras.callbacks.History at 0x1f0ae443c88>"
      ]
     },
     "execution_count": 266,
     "metadata": {},
     "output_type": "execute_result"
    }
   ],
   "source": [
    "model.fit(x=scaled_train_samples, y=train_labels, validation_split=0.1, batch_size=10, epochs=30, shuffle=True, verbose=2)"
   ]
  },
  {
   "cell_type": "code",
   "execution_count": 268,
   "metadata": {},
   "outputs": [],
   "source": [
    "test_samples = []\n",
    "test_labels = []\n",
    "for i in range(50):\n",
    "    random_younger = randint(13, 64)\n",
    "    test_samples.append(random_younger)\n",
    "    test_labels.append(1)\n",
    "    random_older = randint(65, 100)\n",
    "    test_samples.append(random_older)\n",
    "    test_labels.append(0)\n",
    "    \n",
    "for i in range(1000):\n",
    "    random_younger = randint(13, 64)\n",
    "    test_samples.append(random_younger)\n",
    "    test_labels.append(0)\n",
    "    random_older = randint(65, 100)\n",
    "    test_samples.append(random_older)\n",
    "    test_labels.append(1)\n",
    "\n",
    "test_labels = np.array(test_labels)\n",
    "test_samples = np.array(test_samples)\n",
    "test_labels, test_samples = shuffle(test_labels, test_samples)\n",
    "scaled_test_samples = scaler.fit_transform(test_samples.reshape(-1, 1))"
   ]
  },
  {
   "cell_type": "code",
   "execution_count": 273,
   "metadata": {},
   "outputs": [
    {
     "data": {
      "text/plain": [
       "array([1, 1, 1, ..., 1, 0, 0], dtype=int64)"
      ]
     },
     "execution_count": 273,
     "metadata": {},
     "output_type": "execute_result"
    }
   ],
   "source": [
    "predictions = model.predict(x=scaled_test_samples, batch_size=10, verbose=0)\n",
    "rounded_predictions = np.argmax(predictions, axis=1)\n",
    "rounded_predictions"
   ]
  },
  {
   "cell_type": "code",
   "execution_count": 278,
   "metadata": {},
   "outputs": [
    {
     "name": "stdout",
     "output_type": "stream",
     "text": [
      "Confusion matrix, without normalization\n",
      "[[ 963   87]\n",
      " [  49 1001]]\n"
     ]
    },
    {
     "data": {
      "image/png": "[encoded data removed]",
      "text/plain": [
       "<Figure size 432x288 with 2 Axes>"
      ]
     },
     "metadata": {
      "needs_background": "light"
     },
     "output_type": "display_data"
    }
   ],
   "source": [
    "cm = confusion_matrix(y_true=test_labels, y_pred=rounded_predictions)\n",
    "def plot_confusion_matrix(cm, classes, normalize=False, title='Confusion matrix', cmap=plt.cm.Blues):\n",
    "    plt.imshow(cm, interpolation='nearest', cmap=cmap)\n",
    "    plt.title('title')\n",
    "    plt.colorbar()\n",
    "    tick_marks = np.arange(len(classes))\n",
    "    plt.xticks(tick_marks, classes, rotation=45)\n",
    "    plt.yticks(tick_marks, classes)\n",
    "    \n",
    "    if normalize:\n",
    "        cm = cm.astype('float') / cm.sum(axis=1)[1:, np.newaxis]\n",
    "        print('Normalized confusion matrix')\n",
    "    else:\n",
    "        print('Confusion matrix, without normalization')\n",
    "        \n",
    "    print(cm)\n",
    "    thresh = cm.max() / 2\n",
    "    for i, j in itertools.product(range(cm.shape[0]), range(cm.shape[1])):\n",
    "        plt.text(j, i, cm[i, j], horizontalalignment='center', color='white' if cm[i, j] > thresh else 'black')\n",
    "    \n",
    "    plt.tight_layout()\n",
    "    plt.ylabel('True label')\n",
    "    plt.xlabel('Predicted label')\n",
    "\n",
    "\n",
    "cm_plot_labels = ['no_side_effects', 'had_side_effects']\n",
    "plot_confusion_matrix(cm, classes=cm_plot_labels, title='Confusion Matrix')"
   ]
  },
  {
   "cell_type": "code",
   "execution_count": 282,
   "metadata": {},
   "outputs": [],
   "source": [
    "if os.path.isfile('../models/medical_trial_model.h5') is False:\n",
    "    model.save('../models/medical_trial_model.h5')"
   ]
  },
  {
   "cell_type": "code",
   "execution_count": 285,
   "metadata": {},
   "outputs": [
    {
     "name": "stdout",
     "output_type": "stream",
     "text": [
      "Model: \"sequential_10\"\n",
      "_________________________________________________________________\n",
      "Layer (type)                 Output Shape              Param #   \n",
      "=================================================================\n",
      "dense_23 (Dense)             (None, 16)                32        \n",
      "_________________________________________________________________\n",
      "dense_24 (Dense)             (None, 32)                544       \n",
      "_________________________________________________________________\n",
      "dense_25 (Dense)             (None, 2)                 66        \n",
      "=================================================================\n",
      "Total params: 642\n",
      "Trainable params: 642\n",
      "Non-trainable params: 0\n",
      "_________________________________________________________________\n"
     ]
    }
   ],
   "source": [
    "new_model = load_model('../models/medical_trial_model.h5')\n",
    "# new_model.summary()"
   ]
  },
  {
   "cell_type": "code",
   "execution_count": 292,
   "metadata": {},
   "outputs": [],
   "source": [
    "# Save model architecture only (need to retrain it and compile and get an optimizer)\n",
    "json_string = model.to_json()\n",
    "model_architecture = model_from_json(json_string)"
   ]
  },
  {
   "cell_type": "code",
   "execution_count": 294,
   "metadata": {},
   "outputs": [],
   "source": [
    "# Save model weights\n",
    "if os.path.isfile('../model/my_model_weights.h5') is False:\n",
    "    model.save_weights('../models/my_model_weights.h5')"
   ]
  },
  {
   "cell_type": "code",
   "execution_count": 297,
   "metadata": {},
   "outputs": [],
   "source": [
    "# Need to create a second model with the same architecture to load the model weights\n",
    "model2 = Sequential([\n",
    "    Dense(units=16, input_shape=(1, ), activation='relu'),\n",
    "    Dense(units=32, activation='relu'),\n",
    "    Dense(units=2, activation='softmax')\n",
    "])\n",
    "model2.load_weights('../models/my_model_weights.h5')\n",
    "# model2.get_weights()"
   ]
  },
  {
   "cell_type": "code",
   "execution_count": 303,
   "metadata": {},
   "outputs": [
    {
     "name": "stdout",
     "output_type": "stream",
     "text": [
      "403 - Forbidden\n"
     ]
    }
   ],
   "source": [
    "!kaggle competitions download -c dogs-vs-cats"
   ]
  },
  {
   "cell_type": "code",
   "execution_count": null,
   "metadata": {},
   "outputs": [],
   "source": []
  },
  {
   "cell_type": "code",
   "execution_count": null,
   "metadata": {},
   "outputs": [],
   "source": []
  },
  {
   "cell_type": "code",
   "execution_count": null,
   "metadata": {},
   "outputs": [],
   "source": []
  },
  {
   "cell_type": "code",
   "execution_count": null,
   "metadata": {},
   "outputs": [],
   "source": []
  },
  {
   "cell_type": "code",
   "execution_count": null,
   "metadata": {},
   "outputs": [],
   "source": []
  }
 ],
 "metadata": {
  "kernelspec": {
   "display_name": "Python 3",
   "language": "python",
   "name": "python3"
  },
  "language_info": {
   "codemirror_mode": {
    "name": "ipython",
    "version": 3
   },
   "file_extension": ".py",
   "mimetype": "text/x-python",
   "name": "python",
   "nbconvert_exporter": "python",
   "pygments_lexer": "ipython3",
   "version": "3.7.3"
  }
 },
 "nbformat": 4,
 "nbformat_minor": 2
}
