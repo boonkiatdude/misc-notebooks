{
 "cells": [
  {
   "cell_type": "code",
   "execution_count": 90,
   "metadata": {},
   "outputs": [],
   "source": [
    "import numpy as np\n",
    "import pandas as pd\n",
    "from sklearn.linear_model import LinearRegression\n",
    "np.set_printoptions(edgeitems=100, linewidth=1000)"
   ]
  },
  {
   "cell_type": "code",
   "execution_count": 87,
   "metadata": {},
   "outputs": [],
   "source": [
    "def LinReg(predictor, response):\n",
    "    model = LinearRegression().fit(predictor, response)\n",
    "    result = pd.Series({\n",
    "        'R_sq':model.score(predictor, response),\n",
    "        'Intercept':model.intercept_,\n",
    "        'Coefficient':np.round(model.coef_, 3)\n",
    "    })\n",
    "    return result"
   ]
  },
  {
   "cell_type": "code",
   "execution_count": 83,
   "metadata": {},
   "outputs": [],
   "source": [
    "x1 = [-1, -1, 1, 1, -1, -1, 1, 1, 0, 0, 0, 0, 0, 0, 0]\n",
    "x2 = [-1, 1, -1, 1, 0, 0, 0, 0, -1, -1, 1, 1, 0, 0, 0]\n",
    "x3 = [0, 0, 0, 0, -1, 1, -1, 1, -1, 1, -1, 1, 0, 0, 0]\n",
    "x4 = [i**2 for i in x1]\n",
    "x5 = [i**2 for i in x2]\n",
    "x6 = [i**2 for i in x3]\n",
    "x7 = [x1[i] * x2[i] for i in range(len(x1))]\n",
    "x8 = [x1[i] * x3[i] for i in range(len(x1))]\n",
    "x9 = [x2[i] * x3[i] for i in range(len(x1))]\n",
    "x = np.column_stack([x1, x2, x3, x4, x5, x6, x7, x8, x9])\n",
    "y = [18.3, 22.2, 23.0, 23.0 , 3.3, 19.3, 19.3, 20.3, 13.1, 23.0, 20.9, 21.5, 22.0, 21.3, 22.6]"
   ]
  },
  {
   "cell_type": "code",
   "execution_count": 88,
   "metadata": {},
   "outputs": [
    {
     "data": {
      "text/plain": [
       "R_sq                                                    0.937595\n",
       "Intercept                                                21.9667\n",
       "Coefficient    [2.812, 1.275, 3.437, -2.208, 1.867, -4.208, -...\n",
       "dtype: object"
      ]
     },
     "execution_count": 88,
     "metadata": {},
     "output_type": "execute_result"
    }
   ],
   "source": [
    "LinReg(x, y)"
   ]
  },
  {
   "cell_type": "code",
   "execution_count": 89,
   "metadata": {},
   "outputs": [
    {
     "data": {
      "text/plain": [
       "array([ 2.812,  1.275,  3.437, -2.208,  1.867, -4.208, -0.975, -3.75 , -2.325])"
      ]
     },
     "execution_count": 89,
     "metadata": {},
     "output_type": "execute_result"
    }
   ],
   "source": [
    "res = LinReg(x, y)\n",
    "res['Coefficient']"
   ]
  }
 ],
 "metadata": {
  "kernelspec": {
   "display_name": "Python 3",
   "language": "python",
   "name": "python3"
  },
  "language_info": {
   "codemirror_mode": {
    "name": "ipython",
    "version": 3
   },
   "file_extension": ".py",
   "mimetype": "text/x-python",
   "name": "python",
   "nbconvert_exporter": "python",
   "pygments_lexer": "ipython3",
   "version": "3.7.4"
  }
 },
 "nbformat": 4,
 "nbformat_minor": 4
}
